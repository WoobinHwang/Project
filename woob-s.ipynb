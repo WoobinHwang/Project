{
 "cells": [
  {
   "cell_type": "code",
   "execution_count": 1,
   "id": "6871de80",
   "metadata": {
    "_cell_guid": "b1076dfc-b9ad-4769-8c92-a6c4dae69d19",
    "_uuid": "8f2839f25d086af736a60e9eeb907d3b93b6e0e5",
    "execution": {
     "iopub.execute_input": "2022-04-01T03:37:04.471673Z",
     "iopub.status.busy": "2022-04-01T03:37:04.470307Z",
     "iopub.status.idle": "2022-04-01T03:37:04.483124Z",
     "shell.execute_reply": "2022-04-01T03:37:04.483786Z",
     "shell.execute_reply.started": "2022-04-01T03:34:25.497929Z"
    },
    "papermill": {
     "duration": 0.028286,
     "end_time": "2022-04-01T03:37:04.484128",
     "exception": false,
     "start_time": "2022-04-01T03:37:04.455842",
     "status": "completed"
    },
    "tags": []
   },
   "outputs": [
    {
     "name": "stdout",
     "output_type": "stream",
     "text": [
      "/kaggle/input/spaceship-titanic/sample_submission.csv\n",
      "/kaggle/input/spaceship-titanic/train.csv\n",
      "/kaggle/input/spaceship-titanic/test.csv\n"
     ]
    }
   ],
   "source": [
    "# This Python 3 environment comes with many helpful analytics libraries installed\n",
    "# It is defined by the kaggle/python Docker image: https://github.com/kaggle/docker-python\n",
    "# For example, here's several helpful packages to load\n",
    "\n",
    "import numpy as np # linear algebra\n",
    "import pandas as pd # data processing, CSV file I/O (e.g. pd.read_csv)\n",
    "\n",
    "# Input data files are available in the read-only \"../input/\" directory\n",
    "# For example, running this (by clicking run or pressing Shift+Enter) will list all files under the input directory\n",
    "\n",
    "import os\n",
    "for dirname, _, filenames in os.walk('/kaggle/input'):\n",
    "    for filename in filenames:\n",
    "        print(os.path.join(dirname, filename))\n",
    "\n",
    "# You can write up to 20GB to the current directory (/kaggle/working/) that gets preserved as output when you create a version using \"Save & Run All\" \n",
    "# You can also write temporary files to /kaggle/temp/, but they won't be saved outside of the current session"
   ]
  },
  {
   "cell_type": "markdown",
   "id": "e58ead05",
   "metadata": {
    "papermill": {
     "duration": 0.009338,
     "end_time": "2022-04-01T03:37:04.503824",
     "exception": false,
     "start_time": "2022-04-01T03:37:04.494486",
     "status": "completed"
    },
    "tags": []
   },
   "source": [
    "# Step.1 라이브러리 및 데이터 불러오기\n",
    "- 라이브러리 버전 확인"
   ]
  },
  {
   "cell_type": "code",
   "execution_count": 2,
   "id": "25ea1bb9",
   "metadata": {
    "execution": {
     "iopub.execute_input": "2022-04-01T03:37:04.526539Z",
     "iopub.status.busy": "2022-04-01T03:37:04.525921Z",
     "iopub.status.idle": "2022-04-01T03:37:04.593757Z",
     "shell.execute_reply": "2022-04-01T03:37:04.594310Z",
     "shell.execute_reply.started": "2022-04-01T03:34:25.528176Z"
    },
    "papermill": {
     "duration": 0.080998,
     "end_time": "2022-04-01T03:37:04.594500",
     "exception": false,
     "start_time": "2022-04-01T03:37:04.513502",
     "status": "completed"
    },
    "tags": []
   },
   "outputs": [
    {
     "name": "stdout",
     "output_type": "stream",
     "text": [
      "  PassengerId HomePlanet CryoSleep  Cabin  Destination   Age    VIP  \\\n",
      "0     0001_01     Europa     False  B/0/P  TRAPPIST-1e  39.0  False   \n",
      "1     0002_01      Earth     False  F/0/S  TRAPPIST-1e  24.0  False   \n",
      "2     0003_01     Europa     False  A/0/S  TRAPPIST-1e  58.0   True   \n",
      "3     0003_02     Europa     False  A/0/S  TRAPPIST-1e  33.0  False   \n",
      "4     0004_01      Earth     False  F/1/S  TRAPPIST-1e  16.0  False   \n",
      "\n",
      "   RoomService  FoodCourt  ShoppingMall     Spa  VRDeck               Name  \\\n",
      "0          0.0        0.0           0.0     0.0     0.0    Maham Ofracculy   \n",
      "1        109.0        9.0          25.0   549.0    44.0       Juanna Vines   \n",
      "2         43.0     3576.0           0.0  6715.0    49.0      Altark Susent   \n",
      "3          0.0     1283.0         371.0  3329.0   193.0       Solam Susent   \n",
      "4        303.0       70.0         151.0   565.0     2.0  Willy Santantines   \n",
      "\n",
      "   Transported  \n",
      "0        False  \n",
      "1         True  \n",
      "2        False  \n",
      "3        False  \n",
      "4         True  \n"
     ]
    }
   ],
   "source": [
    "# 데이터 불러오기\n",
    "    # PassengerId: 승객 번호, Transported: 전송\n",
    "# sample = pd.read_csv(\"/kaggle/input/spaceship-titanic/sample_submission.csv\")\n",
    "# print(sample.head())\n",
    "# test = pd.read_csv(\"/kaggle/input/spaceship-titanic/test.csv\")\n",
    "# print(test.head())\n",
    "train = pd.read_csv(\"/kaggle/input/spaceship-titanic/train.csv\")\n",
    "print(train.head())"
   ]
  },
  {
   "cell_type": "code",
   "execution_count": 3,
   "id": "9a44683b",
   "metadata": {
    "execution": {
     "iopub.execute_input": "2022-04-01T03:37:04.623592Z",
     "iopub.status.busy": "2022-04-01T03:37:04.622917Z",
     "iopub.status.idle": "2022-04-01T03:37:04.684166Z",
     "shell.execute_reply": "2022-04-01T03:37:04.684674Z",
     "shell.execute_reply.started": "2022-04-01T03:34:25.602362Z"
    },
    "papermill": {
     "duration": 0.080142,
     "end_time": "2022-04-01T03:37:04.684894",
     "exception": false,
     "start_time": "2022-04-01T03:37:04.604752",
     "status": "completed"
    },
    "tags": []
   },
   "outputs": [
    {
     "name": "stdout",
     "output_type": "stream",
     "text": [
      "<class 'pandas.core.frame.DataFrame'>\n",
      "RangeIndex: 8693 entries, 0 to 8692\n",
      "Data columns (total 14 columns):\n",
      " #   Column        Non-Null Count  Dtype  \n",
      "---  ------        --------------  -----  \n",
      " 0   PassengerId   8693 non-null   object \n",
      " 1   HomePlanet    8492 non-null   object \n",
      " 2   CryoSleep     8476 non-null   object \n",
      " 3   Cabin         8494 non-null   object \n",
      " 4   Destination   8511 non-null   object \n",
      " 5   Age           8514 non-null   float64\n",
      " 6   VIP           8490 non-null   object \n",
      " 7   RoomService   8512 non-null   float64\n",
      " 8   FoodCourt     8510 non-null   float64\n",
      " 9   ShoppingMall  8485 non-null   float64\n",
      " 10  Spa           8510 non-null   float64\n",
      " 11  VRDeck        8505 non-null   float64\n",
      " 12  Name          8493 non-null   object \n",
      " 13  Transported   8693 non-null   bool   \n",
      "dtypes: bool(1), float64(6), object(7)\n",
      "memory usage: 891.5+ KB\n"
     ]
    },
    {
     "data": {
      "text/html": [
       "<div>\n",
       "<style scoped>\n",
       "    .dataframe tbody tr th:only-of-type {\n",
       "        vertical-align: middle;\n",
       "    }\n",
       "\n",
       "    .dataframe tbody tr th {\n",
       "        vertical-align: top;\n",
       "    }\n",
       "\n",
       "    .dataframe thead th {\n",
       "        text-align: right;\n",
       "    }\n",
       "</style>\n",
       "<table border=\"1\" class=\"dataframe\">\n",
       "  <thead>\n",
       "    <tr style=\"text-align: right;\">\n",
       "      <th></th>\n",
       "      <th>Age</th>\n",
       "      <th>RoomService</th>\n",
       "      <th>FoodCourt</th>\n",
       "      <th>ShoppingMall</th>\n",
       "      <th>Spa</th>\n",
       "      <th>VRDeck</th>\n",
       "    </tr>\n",
       "  </thead>\n",
       "  <tbody>\n",
       "    <tr>\n",
       "      <th>count</th>\n",
       "      <td>8514.000000</td>\n",
       "      <td>8512.000000</td>\n",
       "      <td>8510.000000</td>\n",
       "      <td>8485.000000</td>\n",
       "      <td>8510.000000</td>\n",
       "      <td>8505.000000</td>\n",
       "    </tr>\n",
       "    <tr>\n",
       "      <th>mean</th>\n",
       "      <td>28.827930</td>\n",
       "      <td>224.687617</td>\n",
       "      <td>458.077203</td>\n",
       "      <td>173.729169</td>\n",
       "      <td>311.138778</td>\n",
       "      <td>304.854791</td>\n",
       "    </tr>\n",
       "    <tr>\n",
       "      <th>std</th>\n",
       "      <td>14.489021</td>\n",
       "      <td>666.717663</td>\n",
       "      <td>1611.489240</td>\n",
       "      <td>604.696458</td>\n",
       "      <td>1136.705535</td>\n",
       "      <td>1145.717189</td>\n",
       "    </tr>\n",
       "    <tr>\n",
       "      <th>min</th>\n",
       "      <td>0.000000</td>\n",
       "      <td>0.000000</td>\n",
       "      <td>0.000000</td>\n",
       "      <td>0.000000</td>\n",
       "      <td>0.000000</td>\n",
       "      <td>0.000000</td>\n",
       "    </tr>\n",
       "    <tr>\n",
       "      <th>25%</th>\n",
       "      <td>19.000000</td>\n",
       "      <td>0.000000</td>\n",
       "      <td>0.000000</td>\n",
       "      <td>0.000000</td>\n",
       "      <td>0.000000</td>\n",
       "      <td>0.000000</td>\n",
       "    </tr>\n",
       "    <tr>\n",
       "      <th>50%</th>\n",
       "      <td>27.000000</td>\n",
       "      <td>0.000000</td>\n",
       "      <td>0.000000</td>\n",
       "      <td>0.000000</td>\n",
       "      <td>0.000000</td>\n",
       "      <td>0.000000</td>\n",
       "    </tr>\n",
       "    <tr>\n",
       "      <th>75%</th>\n",
       "      <td>38.000000</td>\n",
       "      <td>47.000000</td>\n",
       "      <td>76.000000</td>\n",
       "      <td>27.000000</td>\n",
       "      <td>59.000000</td>\n",
       "      <td>46.000000</td>\n",
       "    </tr>\n",
       "    <tr>\n",
       "      <th>max</th>\n",
       "      <td>79.000000</td>\n",
       "      <td>14327.000000</td>\n",
       "      <td>29813.000000</td>\n",
       "      <td>23492.000000</td>\n",
       "      <td>22408.000000</td>\n",
       "      <td>24133.000000</td>\n",
       "    </tr>\n",
       "  </tbody>\n",
       "</table>\n",
       "</div>"
      ],
      "text/plain": [
       "               Age   RoomService     FoodCourt  ShoppingMall           Spa  \\\n",
       "count  8514.000000   8512.000000   8510.000000   8485.000000   8510.000000   \n",
       "mean     28.827930    224.687617    458.077203    173.729169    311.138778   \n",
       "std      14.489021    666.717663   1611.489240    604.696458   1136.705535   \n",
       "min       0.000000      0.000000      0.000000      0.000000      0.000000   \n",
       "25%      19.000000      0.000000      0.000000      0.000000      0.000000   \n",
       "50%      27.000000      0.000000      0.000000      0.000000      0.000000   \n",
       "75%      38.000000     47.000000     76.000000     27.000000     59.000000   \n",
       "max      79.000000  14327.000000  29813.000000  23492.000000  22408.000000   \n",
       "\n",
       "             VRDeck  \n",
       "count   8505.000000  \n",
       "mean     304.854791  \n",
       "std     1145.717189  \n",
       "min        0.000000  \n",
       "25%        0.000000  \n",
       "50%        0.000000  \n",
       "75%       46.000000  \n",
       "max    24133.000000  "
      ]
     },
     "execution_count": 3,
     "metadata": {},
     "output_type": "execute_result"
    }
   ],
   "source": [
    "# 결측치 확인\n",
    "    # 결측치 없음\n",
    "train.info()\n",
    "train.describe()"
   ]
  },
  {
   "cell_type": "markdown",
   "id": "d0320cb1",
   "metadata": {
    "papermill": {
     "duration": 0.01088,
     "end_time": "2022-04-01T03:37:04.707107",
     "exception": false,
     "start_time": "2022-04-01T03:37:04.696227",
     "status": "completed"
    },
    "tags": []
   },
   "source": [
    "# Step.2 탐색적 자료 분석(EDA)\n",
    "- 데이터 시각화\n",
    "- 산점도, 막대 그래프 등\n",
    "- 그래프 해석해서 설명을 달아야 함.\n",
    "- 약간의 데이터 전처리"
   ]
  },
  {
   "cell_type": "markdown",
   "id": "1b410b36",
   "metadata": {
    "papermill": {
     "duration": 0.010836,
     "end_time": "2022-04-01T03:37:04.729056",
     "exception": false,
     "start_time": "2022-04-01T03:37:04.718220",
     "status": "completed"
    },
    "tags": []
   },
   "source": [
    "# Step.3 데이터 전처리\n",
    "- Feature Engineering\n",
    "- 머신러닝(ML) 모형을 돌리기 위해 표준화 등 / 원핫-인코딩\n",
    "- 파생변수(도출변수) 만들기\n",
    "    - 왜 이 변수를 만들었는지에 대한 설명 필요"
   ]
  },
  {
   "cell_type": "markdown",
   "id": "a4597c00",
   "metadata": {
    "papermill": {
     "duration": 0.010667,
     "end_time": "2022-04-01T03:37:04.751088",
     "exception": false,
     "start_time": "2022-04-01T03:37:04.740421",
     "status": "completed"
    },
    "tags": []
   },
   "source": [
    "# Step.4 머신러닝 모형 개발\n",
    "- 모형에 대한 설명 필요\n",
    "- 모형 1~2개 사용 권장\n",
    "- 교차 검증\n",
    "- 하이퍼 파라미터 튜닝"
   ]
  },
  {
   "cell_type": "markdown",
   "id": "8c867fde",
   "metadata": {
    "papermill": {
     "duration": 0.010851,
     "end_time": "2022-04-01T03:37:04.773467",
     "exception": false,
     "start_time": "2022-04-01T03:37:04.762616",
     "status": "completed"
    },
    "tags": []
   },
   "source": [
    "# Step.5 모형 평가\n",
    "- 훈련데이터를 쪼개어 훈련데이터 + 검증데이터 분리\n",
    "- 정확도 비교\n",
    "- 혼동행렬(confusion Matrix) 설명"
   ]
  },
  {
   "cell_type": "markdown",
   "id": "93749a4d",
   "metadata": {
    "papermill": {
     "duration": 0.010685,
     "end_time": "2022-04-01T03:37:04.795260",
     "exception": false,
     "start_time": "2022-04-01T03:37:04.784575",
     "status": "completed"
    },
    "tags": []
   },
   "source": [
    "# Step.6 제출\n",
    "- 제출 양식 샘플은 만들어줌."
   ]
  },
  {
   "cell_type": "markdown",
   "id": "044c832d",
   "metadata": {
    "papermill": {
     "duration": 0.010712,
     "end_time": "2022-04-01T03:37:04.816983",
     "exception": false,
     "start_time": "2022-04-01T03:37:04.806271",
     "status": "completed"
    },
    "tags": []
   },
   "source": [
    "# 참고\n",
    "- 다른 사람의 code 설명을 쭉 따라치는경우\n",
    "    - 노트북 표절 방지 위해서, 참조한 코드는 반드시 링크 걸어둘것\n",
    "    - 저자 이름, 글 제목, 링크 주소"
   ]
  },
  {
   "cell_type": "markdown",
   "id": "c771a157",
   "metadata": {
    "papermill": {
     "duration": 0.010928,
     "end_time": "2022-04-01T03:37:04.839939",
     "exception": false,
     "start_time": "2022-04-01T03:37:04.829011",
     "status": "completed"
    },
    "tags": []
   },
   "source": [
    "# 마감일\n",
    "- 4월 12일 17시 40분\n",
    "- 제출 형태\n",
    "    - Leaderboard 랭킹 사진 캡처\n",
    "    - 고용노동부 보고 양식 (다음주에 확인하고 알려주실 예정)"
   ]
  }
 ],
 "metadata": {
  "kernelspec": {
   "display_name": "Python 3",
   "language": "python",
   "name": "python3"
  },
  "language_info": {
   "codemirror_mode": {
    "name": "ipython",
    "version": 3
   },
   "file_extension": ".py",
   "mimetype": "text/x-python",
   "name": "python",
   "nbconvert_exporter": "python",
   "pygments_lexer": "ipython3",
   "version": "3.7.12"
  },
  "papermill": {
   "default_parameters": {},
   "duration": 11.810311,
   "end_time": "2022-04-01T03:37:05.665550",
   "environment_variables": {},
   "exception": null,
   "input_path": "__notebook__.ipynb",
   "output_path": "__notebook__.ipynb",
   "parameters": {},
   "start_time": "2022-04-01T03:36:53.855239",
   "version": "2.3.3"
  }
 },
 "nbformat": 4,
 "nbformat_minor": 5
}
